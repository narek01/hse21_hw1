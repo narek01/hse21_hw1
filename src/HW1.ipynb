{
 "cells": [
  {
   "cell_type": "code",
   "execution_count": 38,
   "id": "d0790a06",
   "metadata": {},
   "outputs": [
    {
     "name": "stdout",
     "output_type": "stream",
     "text": [
      "Defaulting to user installation because normal site-packages is not writeable\n",
      "Collecting fastaparser\n",
      "  Downloading fastaparser-1.1-py3-none-any.whl (29 kB)\n",
      "Installing collected packages: fastaparser\n",
      "Successfully installed fastaparser-1.1\n"
     ]
    }
   ],
   "source": [
    "!pip install fastaparser"
   ]
  },
  {
   "cell_type": "code",
   "execution_count": 47,
   "id": "d24c068f",
   "metadata": {},
   "outputs": [],
   "source": [
    "import fastaparser as fst\n",
    "import pandas as pd"
   ]
  },
  {
   "cell_type": "code",
   "execution_count": 62,
   "id": "4704a643",
   "metadata": {},
   "outputs": [],
   "source": [
    "contig_path = \"Poil_contig.fa\"\n",
    "scaffold_path = \"Poil_scaffold.fa\"\n",
    "gapClosed_path = \"Poil_gapClosed.fa\""
   ]
  },
  {
   "cell_type": "code",
   "execution_count": 127,
   "id": "63043370",
   "metadata": {},
   "outputs": [],
   "source": [
    "# Парсим fasta в Pandas Dataframe\n",
    "def parser(path):\n",
    "    with open('trim/'+path, \"r\") as file:\n",
    "        seq_parser = fst.Reader(file, parse_method='quick')\n",
    "        df = pd.DataFrame(columns=[\"Sequence\", \"Length\"])\n",
    "        for seq in seq_parser:\n",
    "            df.loc[seq.header, 'Sequence'] = seq.sequence\n",
    "            df.loc[seq.header, 'Length'] = len(seq.sequence)\n",
    "    return df.sort_values(by=\"Length\", ascending=False)\n",
    "\n",
    "def general_stats(df):\n",
    "    print(\"Number of sequences:\", len(df))\n",
    "    print(\"Total length:\", df.Length.sum())\n",
    "    print(\"The size of the longest sequence:\", df.Length[0])\n",
    "    i = 1; len_sum = df.Length[0]\n",
    "    while len_sum < df.Length.sum() / 2:\n",
    "        len_sum += df.Length[i]\n",
    "        i += 1\n",
    "    print(\"N50:\", df.Length[i])\n",
    "    \n",
    "def gaps(seq):\n",
    "    print(\"Number of gaps:\", len(re.findall(\"N+\", seq)))\n",
    "    print(\"The gaps themselves: \", re.findall(\"N+\", seq))\n",
    "    print(\"Total length of gaps:\", seq.count(\"N\"))"
   ]
  },
  {
   "cell_type": "code",
   "execution_count": 89,
   "id": "6c556805",
   "metadata": {},
   "outputs": [],
   "source": [
    "contigs = parser(contig_path)\n",
    "scaffold = parser(scaffold_path)\n",
    "gapClosed = parser(gapClosed_path)"
   ]
  },
  {
   "cell_type": "code",
   "execution_count": 129,
   "id": "f158a425",
   "metadata": {},
   "outputs": [
    {
     "name": "stdout",
     "output_type": "stream",
     "text": [
      "\tStatistics for contigs\n",
      "Number of sequences: 609\n",
      "Total length: 3925016\n",
      "The size of the longest sequence: 179307\n",
      "N50: 47611\n",
      "\n",
      "\tStatistics for scaffolds\n",
      "Number of sequences: 95\n",
      "Total length: 3870305\n",
      "The size of the longest sequence: 383603\n",
      "N50: 169882\n",
      "Number of gaps: 3\n",
      "The gaps themselves:  ['N', 'NNNNNNNNNNNNNN', 'NNNNNNNNNNNNNNNNNNNNNNNNN']\n",
      "Total length of gaps: 40\n",
      "\n",
      "\tStatistics for gapClosed\n",
      "Number of sequences: 95\n",
      "Total length: 3870322\n",
      "The size of the longest sequence: 383574\n",
      "N50: 169882\n",
      "Number of gaps: 0\n",
      "The gaps themselves:  []\n",
      "Total length of gaps: 0\n"
     ]
    }
   ],
   "source": [
    "print(\"\\tStatistics for contigs\"); general_stats(contigs)\n",
    "print(\"\\n\\tStatistics for scaffolds\"); general_stats(scaffold); gaps(scaffold.Sequence[0])\n",
    "print(\"\\n\\tStatistics for gapClosed\"); general_stats(gapClosed); gaps(gapClosed.Sequence[0])"
   ]
  },
  {
   "cell_type": "code",
   "execution_count": 141,
   "id": "024bb3dc",
   "metadata": {},
   "outputs": [],
   "source": [
    "# Сохраняем самый длинный скаффолд в fasta-файл\n",
    "with open(r\"trim/longest.fasta\", 'w') as fasta_file:\n",
    "    writer = fst.Writer(fasta_file)\n",
    "    writer.writefasta((gapClosed.index[0], gapClosed.Sequence[0]))"
   ]
  }
 ],
 "metadata": {
  "kernelspec": {
   "display_name": "Python 3",
   "language": "python",
   "name": "python3"
  },
  "language_info": {
   "codemirror_mode": {
    "name": "ipython",
    "version": 3
   },
   "file_extension": ".py",
   "mimetype": "text/x-python",
   "name": "python",
   "nbconvert_exporter": "python",
   "pygments_lexer": "ipython3",
   "version": "3.6.9"
  }
 },
 "nbformat": 4,
 "nbformat_minor": 5
}
