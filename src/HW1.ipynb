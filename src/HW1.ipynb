{
 "cells": [
  {
   "cell_type": "code",
   "execution_count": 1,
   "id": "d24c068f",
   "metadata": {},
   "outputs": [],
   "source": [
    "import fastaparser as fst\n",
    "import pandas as pd\n",
    "import re"
   ]
  },
  {
   "cell_type": "code",
   "execution_count": 2,
   "id": "4704a643",
   "metadata": {},
   "outputs": [],
   "source": [
    "contig_path = \"trim/Poil_contig.fa\"\n",
    "scaffold_path = \"trim/Poil_scaffold.fa\"\n",
    "gapClosed_path = \"trim/Poil_gapClosed.fa\""
   ]
  },
  {
   "cell_type": "code",
   "execution_count": 3,
   "id": "63043370",
   "metadata": {},
   "outputs": [],
   "source": [
    "# Парсим fasta в Pandas Dataframe\n",
    "def parser(path):\n",
    "    with open(path, \"r\") as file:\n",
    "        seq_parser = fst.Reader(file, parse_method='quick')\n",
    "        df = pd.DataFrame(columns=[\"Sequence\", \"Length\"])\n",
    "        for seq in seq_parser:\n",
    "            df.loc[seq.header, 'Sequence'] = seq.sequence\n",
    "            df.loc[seq.header, 'Length'] = len(seq.sequence)\n",
    "    return df.sort_values(by=\"Length\", ascending=False)\n",
    "\n",
    "def general_stats(df):\n",
    "    print(\"Number of sequences:\", len(df))\n",
    "    print(\"Total length:\", df.Length.sum())\n",
    "    print(\"The size of the longest sequence:\", df.Length[0])\n",
    "    i = 1; len_sum = df.Length[0]\n",
    "    while len_sum < df.Length.sum() / 2:\n",
    "        len_sum += df.Length[i]\n",
    "        i += 1\n",
    "    print(\"N50:\", df.Length[i-1])\n",
    "    \n",
    "def gaps(seq):\n",
    "    print(\"Number of gaps:\", len(re.findall(\"N+\", seq)))\n",
    "    print(\"The gaps themselves: \", re.findall(\"N+\", seq))\n",
    "    print(\"Total length of gaps:\", seq.count(\"N\"))"
   ]
  },
  {
   "cell_type": "code",
   "execution_count": 4,
   "id": "6c556805",
   "metadata": {},
   "outputs": [],
   "source": [
    "contigs = parser(contig_path)\n",
    "scaffold = parser(scaffold_path)\n",
    "gapClosed = parser(gapClosed_path)"
   ]
  },
  {
   "cell_type": "code",
   "execution_count": 5,
   "id": "f158a425",
   "metadata": {},
   "outputs": [
    {
     "name": "stdout",
     "output_type": "stream",
     "text": [
      "\tStatistics for contigs\n",
      "Number of sequences: 609\n",
      "Total length: 3925016\n",
      "The size of the longest sequence: 179307\n",
      "N50: 47798\n",
      "\n",
      "\tStatistics for scaffolds\n",
      "Number of sequences: 95\n",
      "Total length: 3870305\n",
      "The size of the longest sequence: 383603\n",
      "N50: 173397\n",
      "Number of gaps: 3\n",
      "The gaps themselves:  ['N', 'NNNNNNNNNNNNNN', 'NNNNNNNNNNNNNNNNNNNNNNNNN']\n",
      "Total length of gaps: 40\n",
      "\n",
      "\tStatistics for gapClosed\n",
      "Number of sequences: 95\n",
      "Total length: 3870322\n",
      "The size of the longest sequence: 383574\n",
      "N50: 173397\n",
      "Number of gaps: 0\n",
      "The gaps themselves:  []\n",
      "Total length of gaps: 0\n"
     ]
    }
   ],
   "source": [
    "print(\"\\tStatistics for contigs\"); general_stats(contigs)\n",
    "print(\"\\n\\tStatistics for scaffolds\"); general_stats(scaffold); gaps(scaffold.Sequence[0])\n",
    "print(\"\\n\\tStatistics for gapClosed\"); general_stats(gapClosed); gaps(gapClosed.Sequence[0])"
   ]
  },
  {
   "cell_type": "code",
   "execution_count": 6,
   "id": "024bb3dc",
   "metadata": {},
   "outputs": [],
   "source": [
    "# Сохраняем самый длинный скаффолд в fasta-файл\n",
    "with open(r\"trim/longest.fasta\", 'w') as fasta_file:\n",
    "    writer = fst.Writer(fasta_file)\n",
    "    writer.writefasta((gapClosed.index[0], gapClosed.Sequence[0]))"
   ]
  },
  {
   "cell_type": "markdown",
   "id": "27c6f911",
   "metadata": {},
   "source": [
    "# Дополнительное задание\n",
    "### Взяли на 20% меньше ридов - 4 млн и 1.2 млн вместо 5 и 1.5 соответственно"
   ]
  },
  {
   "cell_type": "code",
   "execution_count": 7,
   "id": "fadff12b",
   "metadata": {},
   "outputs": [],
   "source": [
    "s_contigs = parser(\"small/\"+contig_path)\n",
    "s_scaffold = parser(\"small/\"+scaffold_path)\n",
    "s_gapClosed = parser(\"small/\"+gapClosed_path)"
   ]
  },
  {
   "cell_type": "code",
   "execution_count": 8,
   "id": "ec553d76",
   "metadata": {},
   "outputs": [
    {
     "name": "stdout",
     "output_type": "stream",
     "text": [
      "\tStatistics for contigs\n",
      "Number of sequences: 630\n",
      "Total length: 3924487\n",
      "The size of the longest sequence: 189755\n",
      "N50: 58446\n",
      "\n",
      "\tStatistics for scaffolds\n",
      "Number of sequences: 100\n",
      "Total length: 3868693\n",
      "The size of the longest sequence: 383606\n",
      "N50: 173393\n",
      "Number of gaps: 4\n",
      "The gaps themselves:  ['NNNNN', 'NNNNNNNNNNNNNNN', 'NNNNNNNNNNNNNNNNNNNNNNNNNNNNN', 'NNNNNNNNNNNNNNNNNNNN']\n",
      "Total length of gaps: 69\n",
      "\n",
      "\tStatistics for gapClosed\n",
      "Number of sequences: 100\n",
      "Total length: 3868817\n",
      "The size of the longest sequence: 383570\n",
      "N50: 173393\n",
      "Number of gaps: 0\n",
      "The gaps themselves:  []\n",
      "Total length of gaps: 0\n"
     ]
    }
   ],
   "source": [
    "print(\"\\tStatistics for contigs\"); general_stats(s_contigs)\n",
    "print(\"\\n\\tStatistics for scaffolds\"); general_stats(s_scaffold); gaps(s_scaffold.Sequence[0])\n",
    "print(\"\\n\\tStatistics for gapClosed\"); general_stats(s_gapClosed); gaps(s_gapClosed.Sequence[0])"
   ]
  },
  {
   "cell_type": "markdown",
   "id": "9651a4a9",
   "metadata": {},
   "source": [
    "Как видим, результат чуть хуже, но не критично. Значения N50 отличаются незначительно, как и остальные статистики"
   ]
  },
  {
   "cell_type": "markdown",
   "id": "f2b0b83a",
   "metadata": {},
   "source": [
    "### Взяли на 50% меньше ридов - 2.5 млн и 0.75 млн вместо 5 и 1.5 соответственно"
   ]
  },
  {
   "cell_type": "code",
   "execution_count": 9,
   "id": "ecc78917",
   "metadata": {},
   "outputs": [],
   "source": [
    "ss_contigs = parser(\"smallest/\"+contig_path)\n",
    "ss_scaffold = parser(\"smallest/\"+scaffold_path)\n",
    "ss_gapClosed = parser(\"smallest/\"+gapClosed_path)"
   ]
  },
  {
   "cell_type": "code",
   "execution_count": 10,
   "id": "592a25cb",
   "metadata": {},
   "outputs": [
    {
     "name": "stdout",
     "output_type": "stream",
     "text": [
      "\tStatistics for contigs\n",
      "Number of sequences: 693\n",
      "Total length: 3923130\n",
      "The size of the longest sequence: 210856\n",
      "N50: 81322\n",
      "\n",
      "\tStatistics for scaffolds\n",
      "Number of sequences: 118\n",
      "Total length: 3863084\n",
      "The size of the longest sequence: 383400\n",
      "N50: 173292\n",
      "Number of gaps: 5\n",
      "The gaps themselves:  ['NN', 'NNNNNNNNNNNNNNNNNNNNNNNNNNNNNNNNNNNNNNNNNNNNNNN', 'NNNNNNNNNNNNNNNNNN', 'NNNNNNNNNNNNNNNNNNNNNNNN', 'NNNNNNNNNNNNNNNNNN']\n",
      "Total length of gaps: 109\n",
      "\n",
      "\tStatistics for gapClosed\n",
      "Number of sequences: 118\n",
      "Total length: 3863069\n",
      "The size of the longest sequence: 383412\n",
      "N50: 173292\n",
      "Number of gaps: 0\n",
      "The gaps themselves:  []\n",
      "Total length of gaps: 0\n"
     ]
    }
   ],
   "source": [
    "print(\"\\tStatistics for contigs\"); general_stats(ss_contigs)\n",
    "print(\"\\n\\tStatistics for scaffolds\"); general_stats(ss_scaffold); gaps(ss_scaffold.Sequence[0])\n",
    "print(\"\\n\\tStatistics for gapClosed\"); general_stats(ss_gapClosed); gaps(ss_gapClosed.Sequence[0])"
   ]
  },
  {
   "cell_type": "markdown",
   "id": "4c8e533b",
   "metadata": {},
   "source": [
    "Удивительно, но если оставить лишь половину всех ридов, результат будет не столь плох. Да, увеличивается количество гэпов, уменьшается длина сиквенсов и N50, но не критично."
   ]
  }
 ],
 "metadata": {
  "kernelspec": {
   "display_name": "Python 3",
   "language": "python",
   "name": "python3"
  },
  "language_info": {
   "codemirror_mode": {
    "name": "ipython",
    "version": 3
   },
   "file_extension": ".py",
   "mimetype": "text/x-python",
   "name": "python",
   "nbconvert_exporter": "python",
   "pygments_lexer": "ipython3",
   "version": "3.6.9"
  }
 },
 "nbformat": 4,
 "nbformat_minor": 5
}
